{
 "cells": [
  {
   "cell_type": "markdown",
   "metadata": {},
   "source": [
    "# Part 2 – A/B Test Analysis\n",
    "## 1 – Objective of the Study\n",
    "The goal of this A/B test is to evaluate the impact of an improved recommendation system on user behavior across three funnel stages: product page view (product_page), add to cart (product_cart), and purchase (purchase).\n",
    "We expect at least a 10% uplift at each stage for the test group (B) relative to the control group (A) within 14 days after sign-up.\n",
    "## 2 – Data Preparation and Validation\n",
    "### 2.1 – Data Structure"
   ]
  },
  {
   "cell_type": "code",
   "execution_count": null,
   "metadata": {},
   "outputs": [],
   "source": [
    "# Importing libraries\n",
    "import pandas as pd\n",
    "import numpy as np\n",
    "\n",
    "# Loading the datasets\n",
    "# Marketing calendar\n",
    "marketing = pd.read_csv('../data/samples/ab_project_marketing_events_us.csv')\n",
    "new_users = pd.read_csv('../data/samples/final_ab_new_users_upd_us.csv')\n",
    "events = pd.read_csv('../data/samples/final_ab_events_upd_us.csv')\n",
    "participants = pd.read_csv('../data/samples/final_ab_participants_upd_us.csv')\n"
   ]
  },
  {
   "cell_type": "markdown",
   "metadata": {},
   "source": [
    "We loaded four core datasets: marketing, new users, events, and A/B participants. Below we quickly inspect their shapes and schemas."
   ]
  },
  {
   "cell_type": "code",
   "execution_count": null,
   "metadata": {},
   "outputs": [
    {
     "name": "stdout",
     "output_type": "stream",
     "text": [
      "(14, 4)\n",
      "<class 'pandas.core.frame.DataFrame'>\n",
      "RangeIndex: 14 entries, 0 to 13\n",
      "Data columns (total 4 columns):\n",
      " #   Column     Non-Null Count  Dtype \n",
      "---  ------     --------------  ----- \n",
      " 0   name       14 non-null     object\n",
      " 1   regions    14 non-null     object\n",
      " 2   start_dt   14 non-null     object\n",
      " 3   finish_dt  14 non-null     object\n",
      "dtypes: object(4)\n",
      "memory usage: 580.0+ bytes\n",
      "None\n",
      "                           name                   regions    start_dt  \\\n",
      "0      Christmas&New Year Promo             EU, N.America  2020-12-25   \n",
      "1  St. Valentine's Day Giveaway  EU, CIS, APAC, N.America  2020-02-14   \n",
      "2        St. Patric's Day Promo             EU, N.America  2020-03-17   \n",
      "3                  Easter Promo  EU, CIS, APAC, N.America  2020-04-12   \n",
      "4             4th of July Promo                 N.America  2020-07-04   \n",
      "\n",
      "    finish_dt  \n",
      "0  2021-01-03  \n",
      "1  2020-02-16  \n",
      "2  2020-03-19  \n",
      "3  2020-04-19  \n",
      "4  2020-07-11  \n",
      "(58703, 4)\n",
      "<class 'pandas.core.frame.DataFrame'>\n",
      "RangeIndex: 58703 entries, 0 to 58702\n",
      "Data columns (total 4 columns):\n",
      " #   Column      Non-Null Count  Dtype \n",
      "---  ------      --------------  ----- \n",
      " 0   user_id     58703 non-null  object\n",
      " 1   first_date  58703 non-null  object\n",
      " 2   region      58703 non-null  object\n",
      " 3   device      58703 non-null  object\n",
      "dtypes: object(4)\n",
      "memory usage: 1.8+ MB\n",
      "None\n",
      "            user_id  first_date     region   device\n",
      "0  D72A72121175D8BE  2020-12-07         EU       PC\n",
      "1  F1C668619DFE6E65  2020-12-07  N.America  Android\n",
      "2  2E1BF1D4C37EA01F  2020-12-07         EU       PC\n",
      "3  50734A22C0C63768  2020-12-07         EU   iPhone\n",
      "4  E1BDDCE0DAFA2679  2020-12-07  N.America   iPhone\n",
      "(423761, 4)\n",
      "<class 'pandas.core.frame.DataFrame'>\n",
      "RangeIndex: 423761 entries, 0 to 423760\n",
      "Data columns (total 4 columns):\n",
      " #   Column      Non-Null Count   Dtype  \n",
      "---  ------      --------------   -----  \n",
      " 0   user_id     423761 non-null  object \n",
      " 1   event_dt    423761 non-null  object \n",
      " 2   event_name  423761 non-null  object \n",
      " 3   details     60314 non-null   float64\n",
      "dtypes: float64(1), object(3)\n",
      "memory usage: 12.9+ MB\n",
      "None\n",
      "            user_id             event_dt event_name  details\n",
      "0  E1BDDCE0DAFA2679  2020-12-07 20:22:03   purchase    99.99\n",
      "1  7B6452F081F49504  2020-12-07 09:22:53   purchase     9.99\n",
      "2  9CD9F34546DF254C  2020-12-07 12:59:29   purchase     4.99\n",
      "3  96F27A054B191457  2020-12-07 04:02:40   purchase     4.99\n",
      "4  1FD7660FDF94CA1F  2020-12-07 10:15:09   purchase     4.99\n",
      "(14525, 3)\n",
      "<class 'pandas.core.frame.DataFrame'>\n",
      "RangeIndex: 14525 entries, 0 to 14524\n",
      "Data columns (total 3 columns):\n",
      " #   Column   Non-Null Count  Dtype \n",
      "---  ------   --------------  ----- \n",
      " 0   user_id  14525 non-null  object\n",
      " 1   group    14525 non-null  object\n",
      " 2   ab_test  14525 non-null  object\n",
      "dtypes: object(3)\n",
      "memory usage: 340.6+ KB\n",
      "None\n",
      "            user_id group                  ab_test\n",
      "0  D1ABA3E2887B6A73     A  recommender_system_test\n",
      "1  A7A3664BD6242119     A  recommender_system_test\n",
      "2  DABC14FDDFADD29E     A  recommender_system_test\n",
      "3  04988C5DF189632E     A  recommender_system_test\n",
      "4  4FF2998A348C484F     A  recommender_system_test\n"
     ]
    }
   ],
   "source": [
    "# Quick shape and schema checks\n",
    "print(marketing.shape)\n",
    "print(marketing.info())\n",
    "print(marketing.head())\n",
    "\n",
    "print(new_users.shape)\n",
    "print(new_users.info())\n",
    "print(new_users.head())\n",
    "\n",
    "print(events.shape)\n",
    "print(events.info())\n",
    "print(events.head())\n",
    "\n",
    "print(participants.shape)\n",
    "print(participants.info())\n",
    "print(participants.head())\n"
   ]
  },
  {
   "cell_type": "code",
   "execution_count": null,
   "metadata": {},
   "outputs": [
    {
     "name": "stdout",
     "output_type": "stream",
     "text": [
      "name         0\n",
      "regions      0\n",
      "start_dt     0\n",
      "finish_dt    0\n",
      "dtype: int64\n",
      "user_id       0\n",
      "first_date    0\n",
      "region        0\n",
      "device        0\n",
      "dtype: int64\n",
      "user_id            0\n",
      "event_dt           0\n",
      "event_name         0\n",
      "details       363447\n",
      "dtype: int64\n",
      "user_id    0\n",
      "group      0\n",
      "ab_test    0\n",
      "dtype: int64\n",
      "0\n",
      "0\n",
      "0\n",
      "0\n"
     ]
    }
   ],
   "source": [
    "# Missing values and duplicates\n",
    "print(marketing.isna().sum())\n",
    "print(new_users.isna().sum())\n",
    "print(events.isna().sum())\n",
    "print(participants.isna().sum())\n",
    "\n",
    "print(marketing.duplicated().sum())\n",
    "print(new_users.duplicated().sum())\n",
    "print(events.duplicated().sum())\n",
    "print(participants.duplicated().sum())\n"
   ]
  },
  {
   "cell_type": "markdown",
   "metadata": {},
   "source": [
    "### 2.2 – Date conversion"
   ]
  },
  {
   "cell_type": "code",
   "execution_count": null,
   "metadata": {},
   "outputs": [],
   "source": [
    "# Converting date columns to datetime for filtering and comparisons\n",
    "marketing['start_dt'] = pd.to_datetime(marketing['start_dt'])\n",
    "marketing['finish_dt'] = pd.to_datetime(marketing['finish_dt'])\n",
    "\n",
    "new_users['first_date'] = pd.to_datetime(new_users['first_date'])\n",
    "events['event_dt'] = pd.to_datetime(events['event_dt'])\n"
   ]
  },
  {
   "cell_type": "markdown",
   "metadata": {},
   "source": [
    "**What was done:**\n",
    "We organized the data needed for the A/B analysis: loaded four datasets, checked structure, types, and the presence of nulls/duplicates. The only column with many nulls is details (expected, as it only applies to purchase events). We then converted all date/time fields to datetime to enable temporal filtering and joins.\n",
    "\n",
    "**What we can conclude:**\n",
    "The data is well structured and ready for analysis. With clean schemas and no critical anomalies, we can proceed to join events with test participants and build the conversion funnel without extra preprocessing."
   ]
  },
  {
   "cell_type": "markdown",
   "metadata": {},
   "source": [
    "## 3 – Exploration and Conversion Funnel\n",
    "### 3.1 – Consistency check"
   ]
  },
  {
   "cell_type": "code",
   "execution_count": null,
   "metadata": {},
   "outputs": [
    {
     "name": "stdout",
     "output_type": "stream",
     "text": [
      "Unique users in events: 58703\n",
      "Users in the test: 13638\n",
      "Users appearing in both: 97123\n"
     ]
    }
   ],
   "source": [
    "# Overlap between users in events and test participants\n",
    "users_in_events        = events['user_id'].nunique()\n",
    "users_in_participants  = participants['user_id'].nunique()\n",
    "users_common           = events['user_id'].isin(participants['user_id']).sum()\n",
    "\n",
    "print(f'Unique users in events: {users_in_events}')\n",
    "print(f'Users in the test: {users_in_participants}')\n",
    "print(f'Users appearing in both: {users_common}')\n",
    "\n"
   ]
  },
  {
   "cell_type": "markdown",
   "metadata": {},
   "source": [
    "### 3.2 – Basic funnel\n",
    "#### 3.2.1 – Filter events to test participants"
   ]
  },
  {
   "cell_type": "code",
   "execution_count": null,
   "metadata": {},
   "outputs": [],
   "source": [
    "events_filtered = events[events['user_id'].isin(participants['user_id'])]\n",
    "events_merged = events_filtered.merge(participants, on='user_id')"
   ]
  },
  {
   "cell_type": "markdown",
   "metadata": {},
   "source": [
    "#### 3.2.2 – One-count-per-user funnel by stage"
   ]
  },
  {
   "cell_type": "code",
   "execution_count": null,
   "metadata": {},
   "outputs": [
    {
     "name": "stdout",
     "output_type": "stream",
     "text": [
      "event_name  login  product_cart  product_page  purchase  conversion_cart  \\\n",
      "group                                                                      \n",
      "A            7757          2453          5146      2654         0.476681   \n",
      "B            5879          1941          3777      1909         0.513900   \n",
      "\n",
      "event_name  conversion_purchase  full_conversion  \n",
      "group                                             \n",
      "A                      1.081940         0.515740  \n",
      "B                      0.983514         0.505428  \n"
     ]
    }
   ],
   "source": [
    "unique_events = events_merged.drop_duplicates(subset=['user_id', 'event_name'])\n",
    "\n",
    "funnel = (\n",
    "    unique_events.groupby(['group', 'event_name'])['user_id']\n",
    "    .nunique()\n",
    "    .unstack()\n",
    "    .fillna(0)\n",
    "    .astype(int)\n",
    ")\n",
    "\n",
    "funnel['conversion_cart'] = funnel['product_cart'] / funnel['product_page']\n",
    "funnel['conversion_purchase'] = funnel['purchase'] / funnel['product_cart']\n",
    "funnel['full_conversion'] = funnel['purchase'] / funnel['product_page']\n",
    "\n",
    "print(funnel)\n"
   ]
  },
  {
   "cell_type": "markdown",
   "metadata": {},
   "source": [
    "#### 3.2.3 – Time-ordered funnel"
   ]
  },
  {
   "cell_type": "code",
   "execution_count": null,
   "metadata": {},
   "outputs": [
    {
     "name": "stdout",
     "output_type": "stream",
     "text": [
      "       product_page  product_cart  purchase  conversion_cart  \\\n",
      "group                                                          \n",
      "A              5419          1221       156         0.225318   \n",
      "B              4050           958       110         0.236543   \n",
      "\n",
      "       conversion_purchase  full_conversion  \n",
      "group                                        \n",
      "A                 0.127764         0.028788  \n",
      "B                 0.114823         0.027160  \n"
     ]
    }
   ],
   "source": [
    "# Ensure timestamps are datetime\n",
    "events_merged['event_time'] = pd.to_datetime(events_merged['event_dt'])\n",
    "\n",
    "# First occurrence of each event per user\n",
    "funnel_seq = (\n",
    "    events_merged\n",
    "    .pivot_table(index='user_id', columns='event_name', values='event_time', aggfunc='min')\n",
    ")\n",
    "\n",
    "funnel_seq = funnel_seq.reset_index()\n",
    "\n",
    "funnel_seq = funnel_seq.merge(participants[['user_id', 'group']], on='user_id', how='left')\n",
    "\n",
    "# Valid steps (allow equality to handle identical timestamps)\n",
    "step_1 = ~funnel_seq['product_page'].isna()\n",
    "step_2 = step_1 & (funnel_seq['product_cart'] >= funnel_seq['product_page'])\n",
    "step_3 = step_2 & (funnel_seq['purchase'] >= funnel_seq['product_cart'])\n",
    "\n",
    "# Counts per group and stage\n",
    "funnel_counts = {\n",
    "    'product_page': funnel_seq[step_1].groupby('group').size(),\n",
    "    'product_cart': funnel_seq[step_2].groupby('group').size(),\n",
    "    'purchase': funnel_seq[step_3].groupby('group').size()\n",
    "}\n",
    "\n",
    "# Final time-valid funnel with conversions\n",
    "funnel_valid = pd.DataFrame(funnel_counts).fillna(0).astype(int)\n",
    "funnel_valid['conversion_cart'] = funnel_valid['product_cart'] / funnel_valid['product_page']\n",
    "funnel_valid['conversion_purchase'] = funnel_valid['purchase'] / funnel_valid['product_cart']\n",
    "funnel_valid['full_conversion'] = funnel_valid['purchase'] / funnel_valid['product_page']\n",
    "\n",
    "print(funnel_valid)\n"
   ]
  },
  {
   "cell_type": "markdown",
   "metadata": {},
   "source": [
    "#### 3.2.4 – Funnel visualization"
   ]
  },
  {
   "cell_type": "code",
   "execution_count": null,
   "metadata": {},
   "outputs": [
    {
     "data": {
      "application/vnd.plotly.v1+json": {
       "config": {
        "plotlyServerURL": "https://plot.ly"
       },
       "data": [
        {
         "name": "Group A",
         "textinfo": "value+percent initial",
         "type": "funnel",
         "x": [
          5419,
          1221,
          156
         ],
         "y": [
          "View",
          "Add to Cart",
          "Purchase"
         ]
        }
       ],
       "layout": {
        "template": {
         "data": {
          "bar": [
           {
            "error_x": {
             "color": "#2a3f5f"
            },
            "error_y": {
             "color": "#2a3f5f"
            },
            "marker": {
             "line": {
              "color": "#E5ECF6",
              "width": 0.5
             },
             "pattern": {
              "fillmode": "overlay",
              "size": 10,
              "solidity": 0.2
             }
            },
            "type": "bar"
           }
          ],
          "barpolar": [
           {
            "marker": {
             "line": {
              "color": "#E5ECF6",
              "width": 0.5
             },
             "pattern": {
              "fillmode": "overlay",
              "size": 10,
              "solidity": 0.2
             }
            },
            "type": "barpolar"
           }
          ],
          "carpet": [
           {
            "aaxis": {
             "endlinecolor": "#2a3f5f",
             "gridcolor": "white",
             "linecolor": "white",
             "minorgridcolor": "white",
             "startlinecolor": "#2a3f5f"
            },
            "baxis": {
             "endlinecolor": "#2a3f5f",
             "gridcolor": "white",
             "linecolor": "white",
             "minorgridcolor": "white",
             "startlinecolor": "#2a3f5f"
            },
            "type": "carpet"
           }
          ],
          "choropleth": [
           {
            "colorbar": {
             "outlinewidth": 0,
             "ticks": ""
            },
            "type": "choropleth"
           }
          ],
          "contour": [
           {
            "colorbar": {
             "outlinewidth": 0,
             "ticks": ""
            },
            "colorscale": [
             [
              0,
              "#0d0887"
             ],
             [
              0.1111111111111111,
              "#46039f"
             ],
             [
              0.2222222222222222,
              "#7201a8"
             ],
             [
              0.3333333333333333,
              "#9c179e"
             ],
             [
              0.4444444444444444,
              "#bd3786"
             ],
             [
              0.5555555555555556,
              "#d8576b"
             ],
             [
              0.6666666666666666,
              "#ed7953"
             ],
             [
              0.7777777777777778,
              "#fb9f3a"
             ],
             [
              0.8888888888888888,
              "#fdca26"
             ],
             [
              1,
              "#f0f921"
             ]
            ],
            "type": "contour"
           }
          ],
          "contourcarpet": [
           {
            "colorbar": {
             "outlinewidth": 0,
             "ticks": ""
            },
            "type": "contourcarpet"
           }
          ],
          "heatmap": [
           {
            "colorbar": {
             "outlinewidth": 0,
             "ticks": ""
            },
            "colorscale": [
             [
              0,
              "#0d0887"
             ],
             [
              0.1111111111111111,
              "#46039f"
             ],
             [
              0.2222222222222222,
              "#7201a8"
             ],
             [
              0.3333333333333333,
              "#9c179e"
             ],
             [
              0.4444444444444444,
              "#bd3786"
             ],
             [
              0.5555555555555556,
              "#d8576b"
             ],
             [
              0.6666666666666666,
              "#ed7953"
             ],
             [
              0.7777777777777778,
              "#fb9f3a"
             ],
             [
              0.8888888888888888,
              "#fdca26"
             ],
             [
              1,
              "#f0f921"
             ]
            ],
            "type": "heatmap"
           }
          ],
          "histogram": [
           {
            "marker": {
             "pattern": {
              "fillmode": "overlay",
              "size": 10,
              "solidity": 0.2
             }
            },
            "type": "histogram"
           }
          ],
          "histogram2d": [
           {
            "colorbar": {
             "outlinewidth": 0,
             "ticks": ""
            },
            "colorscale": [
             [
              0,
              "#0d0887"
             ],
             [
              0.1111111111111111,
              "#46039f"
             ],
             [
              0.2222222222222222,
              "#7201a8"
             ],
             [
              0.3333333333333333,
              "#9c179e"
             ],
             [
              0.4444444444444444,
              "#bd3786"
             ],
             [
              0.5555555555555556,
              "#d8576b"
             ],
             [
              0.6666666666666666,
              "#ed7953"
             ],
             [
              0.7777777777777778,
              "#fb9f3a"
             ],
             [
              0.8888888888888888,
              "#fdca26"
             ],
             [
              1,
              "#f0f921"
             ]
            ],
            "type": "histogram2d"
           }
          ],
          "histogram2dcontour": [
           {
            "colorbar": {
             "outlinewidth": 0,
             "ticks": ""
            },
            "colorscale": [
             [
              0,
              "#0d0887"
             ],
             [
              0.1111111111111111,
              "#46039f"
             ],
             [
              0.2222222222222222,
              "#7201a8"
             ],
             [
              0.3333333333333333,
              "#9c179e"
             ],
             [
              0.4444444444444444,
              "#bd3786"
             ],
             [
              0.5555555555555556,
              "#d8576b"
             ],
             [
              0.6666666666666666,
              "#ed7953"
             ],
             [
              0.7777777777777778,
              "#fb9f3a"
             ],
             [
              0.8888888888888888,
              "#fdca26"
             ],
             [
              1,
              "#f0f921"
             ]
            ],
            "type": "histogram2dcontour"
           }
          ],
          "mesh3d": [
           {
            "colorbar": {
             "outlinewidth": 0,
             "ticks": ""
            },
            "type": "mesh3d"
           }
          ],
          "parcoords": [
           {
            "line": {
             "colorbar": {
              "outlinewidth": 0,
              "ticks": ""
             }
            },
            "type": "parcoords"
           }
          ],
          "pie": [
           {
            "automargin": true,
            "type": "pie"
           }
          ],
          "scatter": [
           {
            "fillpattern": {
             "fillmode": "overlay",
             "size": 10,
             "solidity": 0.2
            },
            "type": "scatter"
           }
          ],
          "scatter3d": [
           {
            "line": {
             "colorbar": {
              "outlinewidth": 0,
              "ticks": ""
             }
            },
            "marker": {
             "colorbar": {
              "outlinewidth": 0,
              "ticks": ""
             }
            },
            "type": "scatter3d"
           }
          ],
          "scattercarpet": [
           {
            "marker": {
             "colorbar": {
              "outlinewidth": 0,
              "ticks": ""
             }
            },
            "type": "scattercarpet"
           }
          ],
          "scattergeo": [
           {
            "marker": {
             "colorbar": {
              "outlinewidth": 0,
              "ticks": ""
             }
            },
            "type": "scattergeo"
           }
          ],
          "scattergl": [
           {
            "marker": {
             "colorbar": {
              "outlinewidth": 0,
              "ticks": ""
             }
            },
            "type": "scattergl"
           }
          ],
          "scattermap": [
           {
            "marker": {
             "colorbar": {
              "outlinewidth": 0,
              "ticks": ""
             }
            },
            "type": "scattermap"
           }
          ],
          "scattermapbox": [
           {
            "marker": {
             "colorbar": {
              "outlinewidth": 0,
              "ticks": ""
             }
            },
            "type": "scattermapbox"
           }
          ],
          "scatterpolar": [
           {
            "marker": {
             "colorbar": {
              "outlinewidth": 0,
              "ticks": ""
             }
            },
            "type": "scatterpolar"
           }
          ],
          "scatterpolargl": [
           {
            "marker": {
             "colorbar": {
              "outlinewidth": 0,
              "ticks": ""
             }
            },
            "type": "scatterpolargl"
           }
          ],
          "scatterternary": [
           {
            "marker": {
             "colorbar": {
              "outlinewidth": 0,
              "ticks": ""
             }
            },
            "type": "scatterternary"
           }
          ],
          "surface": [
           {
            "colorbar": {
             "outlinewidth": 0,
             "ticks": ""
            },
            "colorscale": [
             [
              0,
              "#0d0887"
             ],
             [
              0.1111111111111111,
              "#46039f"
             ],
             [
              0.2222222222222222,
              "#7201a8"
             ],
             [
              0.3333333333333333,
              "#9c179e"
             ],
             [
              0.4444444444444444,
              "#bd3786"
             ],
             [
              0.5555555555555556,
              "#d8576b"
             ],
             [
              0.6666666666666666,
              "#ed7953"
             ],
             [
              0.7777777777777778,
              "#fb9f3a"
             ],
             [
              0.8888888888888888,
              "#fdca26"
             ],
             [
              1,
              "#f0f921"
             ]
            ],
            "type": "surface"
           }
          ],
          "table": [
           {
            "cells": {
             "fill": {
              "color": "#EBF0F8"
             },
             "line": {
              "color": "white"
             }
            },
            "header": {
             "fill": {
              "color": "#C8D4E3"
             },
             "line": {
              "color": "white"
             }
            },
            "type": "table"
           }
          ]
         },
         "layout": {
          "annotationdefaults": {
           "arrowcolor": "#2a3f5f",
           "arrowhead": 0,
           "arrowwidth": 1
          },
          "autotypenumbers": "strict",
          "coloraxis": {
           "colorbar": {
            "outlinewidth": 0,
            "ticks": ""
           }
          },
          "colorscale": {
           "diverging": [
            [
             0,
             "#8e0152"
            ],
            [
             0.1,
             "#c51b7d"
            ],
            [
             0.2,
             "#de77ae"
            ],
            [
             0.3,
             "#f1b6da"
            ],
            [
             0.4,
             "#fde0ef"
            ],
            [
             0.5,
             "#f7f7f7"
            ],
            [
             0.6,
             "#e6f5d0"
            ],
            [
             0.7,
             "#b8e186"
            ],
            [
             0.8,
             "#7fbc41"
            ],
            [
             0.9,
             "#4d9221"
            ],
            [
             1,
             "#276419"
            ]
           ],
           "sequential": [
            [
             0,
             "#0d0887"
            ],
            [
             0.1111111111111111,
             "#46039f"
            ],
            [
             0.2222222222222222,
             "#7201a8"
            ],
            [
             0.3333333333333333,
             "#9c179e"
            ],
            [
             0.4444444444444444,
             "#bd3786"
            ],
            [
             0.5555555555555556,
             "#d8576b"
            ],
            [
             0.6666666666666666,
             "#ed7953"
            ],
            [
             0.7777777777777778,
             "#fb9f3a"
            ],
            [
             0.8888888888888888,
             "#fdca26"
            ],
            [
             1,
             "#f0f921"
            ]
           ],
           "sequentialminus": [
            [
             0,
             "#0d0887"
            ],
            [
             0.1111111111111111,
             "#46039f"
            ],
            [
             0.2222222222222222,
             "#7201a8"
            ],
            [
             0.3333333333333333,
             "#9c179e"
            ],
            [
             0.4444444444444444,
             "#bd3786"
            ],
            [
             0.5555555555555556,
             "#d8576b"
            ],
            [
             0.6666666666666666,
             "#ed7953"
            ],
            [
             0.7777777777777778,
             "#fb9f3a"
            ],
            [
             0.8888888888888888,
             "#fdca26"
            ],
            [
             1,
             "#f0f921"
            ]
           ]
          },
          "colorway": [
           "#636efa",
           "#EF553B",
           "#00cc96",
           "#ab63fa",
           "#FFA15A",
           "#19d3f3",
           "#FF6692",
           "#B6E880",
           "#FF97FF",
           "#FECB52"
          ],
          "font": {
           "color": "#2a3f5f"
          },
          "geo": {
           "bgcolor": "white",
           "lakecolor": "white",
           "landcolor": "#E5ECF6",
           "showlakes": true,
           "showland": true,
           "subunitcolor": "white"
          },
          "hoverlabel": {
           "align": "left"
          },
          "hovermode": "closest",
          "mapbox": {
           "style": "light"
          },
          "paper_bgcolor": "white",
          "plot_bgcolor": "#E5ECF6",
          "polar": {
           "angularaxis": {
            "gridcolor": "white",
            "linecolor": "white",
            "ticks": ""
           },
           "bgcolor": "#E5ECF6",
           "radialaxis": {
            "gridcolor": "white",
            "linecolor": "white",
            "ticks": ""
           }
          },
          "scene": {
           "xaxis": {
            "backgroundcolor": "#E5ECF6",
            "gridcolor": "white",
            "gridwidth": 2,
            "linecolor": "white",
            "showbackground": true,
            "ticks": "",
            "zerolinecolor": "white"
           },
           "yaxis": {
            "backgroundcolor": "#E5ECF6",
            "gridcolor": "white",
            "gridwidth": 2,
            "linecolor": "white",
            "showbackground": true,
            "ticks": "",
            "zerolinecolor": "white"
           },
           "zaxis": {
            "backgroundcolor": "#E5ECF6",
            "gridcolor": "white",
            "gridwidth": 2,
            "linecolor": "white",
            "showbackground": true,
            "ticks": "",
            "zerolinecolor": "white"
           }
          },
          "shapedefaults": {
           "line": {
            "color": "#2a3f5f"
           }
          },
          "ternary": {
           "aaxis": {
            "gridcolor": "white",
            "linecolor": "white",
            "ticks": ""
           },
           "baxis": {
            "gridcolor": "white",
            "linecolor": "white",
            "ticks": ""
           },
           "bgcolor": "#E5ECF6",
           "caxis": {
            "gridcolor": "white",
            "linecolor": "white",
            "ticks": ""
           }
          },
          "title": {
           "x": 0.05
          },
          "xaxis": {
           "automargin": true,
           "gridcolor": "white",
           "linecolor": "white",
           "ticks": "",
           "title": {
            "standoff": 15
           },
           "zerolinecolor": "white",
           "zerolinewidth": 2
          },
          "yaxis": {
           "automargin": true,
           "gridcolor": "white",
           "linecolor": "white",
           "ticks": "",
           "title": {
            "standoff": 15
           },
           "zerolinecolor": "white",
           "zerolinewidth": 2
          }
         }
        },
        "title": {
         "text": "Conversion Funnel — Group A"
        }
       }
      }
     },
     "metadata": {},
     "output_type": "display_data"
    },
    {
     "data": {
      "application/vnd.plotly.v1+json": {
       "config": {
        "plotlyServerURL": "https://plot.ly"
       },
       "data": [
        {
         "name": "Group B",
         "textinfo": "value+percent initial",
         "type": "funnel",
         "x": [
          4050,
          958,
          110
         ],
         "y": [
          "View",
          "Add to Cart",
          "Purchase"
         ]
        }
       ],
       "layout": {
        "template": {
         "data": {
          "bar": [
           {
            "error_x": {
             "color": "#2a3f5f"
            },
            "error_y": {
             "color": "#2a3f5f"
            },
            "marker": {
             "line": {
              "color": "#E5ECF6",
              "width": 0.5
             },
             "pattern": {
              "fillmode": "overlay",
              "size": 10,
              "solidity": 0.2
             }
            },
            "type": "bar"
           }
          ],
          "barpolar": [
           {
            "marker": {
             "line": {
              "color": "#E5ECF6",
              "width": 0.5
             },
             "pattern": {
              "fillmode": "overlay",
              "size": 10,
              "solidity": 0.2
             }
            },
            "type": "barpolar"
           }
          ],
          "carpet": [
           {
            "aaxis": {
             "endlinecolor": "#2a3f5f",
             "gridcolor": "white",
             "linecolor": "white",
             "minorgridcolor": "white",
             "startlinecolor": "#2a3f5f"
            },
            "baxis": {
             "endlinecolor": "#2a3f5f",
             "gridcolor": "white",
             "linecolor": "white",
             "minorgridcolor": "white",
             "startlinecolor": "#2a3f5f"
            },
            "type": "carpet"
           }
          ],
          "choropleth": [
           {
            "colorbar": {
             "outlinewidth": 0,
             "ticks": ""
            },
            "type": "choropleth"
           }
          ],
          "contour": [
           {
            "colorbar": {
             "outlinewidth": 0,
             "ticks": ""
            },
            "colorscale": [
             [
              0,
              "#0d0887"
             ],
             [
              0.1111111111111111,
              "#46039f"
             ],
             [
              0.2222222222222222,
              "#7201a8"
             ],
             [
              0.3333333333333333,
              "#9c179e"
             ],
             [
              0.4444444444444444,
              "#bd3786"
             ],
             [
              0.5555555555555556,
              "#d8576b"
             ],
             [
              0.6666666666666666,
              "#ed7953"
             ],
             [
              0.7777777777777778,
              "#fb9f3a"
             ],
             [
              0.8888888888888888,
              "#fdca26"
             ],
             [
              1,
              "#f0f921"
             ]
            ],
            "type": "contour"
           }
          ],
          "contourcarpet": [
           {
            "colorbar": {
             "outlinewidth": 0,
             "ticks": ""
            },
            "type": "contourcarpet"
           }
          ],
          "heatmap": [
           {
            "colorbar": {
             "outlinewidth": 0,
             "ticks": ""
            },
            "colorscale": [
             [
              0,
              "#0d0887"
             ],
             [
              0.1111111111111111,
              "#46039f"
             ],
             [
              0.2222222222222222,
              "#7201a8"
             ],
             [
              0.3333333333333333,
              "#9c179e"
             ],
             [
              0.4444444444444444,
              "#bd3786"
             ],
             [
              0.5555555555555556,
              "#d8576b"
             ],
             [
              0.6666666666666666,
              "#ed7953"
             ],
             [
              0.7777777777777778,
              "#fb9f3a"
             ],
             [
              0.8888888888888888,
              "#fdca26"
             ],
             [
              1,
              "#f0f921"
             ]
            ],
            "type": "heatmap"
           }
          ],
          "histogram": [
           {
            "marker": {
             "pattern": {
              "fillmode": "overlay",
              "size": 10,
              "solidity": 0.2
             }
            },
            "type": "histogram"
           }
          ],
          "histogram2d": [
           {
            "colorbar": {
             "outlinewidth": 0,
             "ticks": ""
            },
            "colorscale": [
             [
              0,
              "#0d0887"
             ],
             [
              0.1111111111111111,
              "#46039f"
             ],
             [
              0.2222222222222222,
              "#7201a8"
             ],
             [
              0.3333333333333333,
              "#9c179e"
             ],
             [
              0.4444444444444444,
              "#bd3786"
             ],
             [
              0.5555555555555556,
              "#d8576b"
             ],
             [
              0.6666666666666666,
              "#ed7953"
             ],
             [
              0.7777777777777778,
              "#fb9f3a"
             ],
             [
              0.8888888888888888,
              "#fdca26"
             ],
             [
              1,
              "#f0f921"
             ]
            ],
            "type": "histogram2d"
           }
          ],
          "histogram2dcontour": [
           {
            "colorbar": {
             "outlinewidth": 0,
             "ticks": ""
            },
            "colorscale": [
             [
              0,
              "#0d0887"
             ],
             [
              0.1111111111111111,
              "#46039f"
             ],
             [
              0.2222222222222222,
              "#7201a8"
             ],
             [
              0.3333333333333333,
              "#9c179e"
             ],
             [
              0.4444444444444444,
              "#bd3786"
             ],
             [
              0.5555555555555556,
              "#d8576b"
             ],
             [
              0.6666666666666666,
              "#ed7953"
             ],
             [
              0.7777777777777778,
              "#fb9f3a"
             ],
             [
              0.8888888888888888,
              "#fdca26"
             ],
             [
              1,
              "#f0f921"
             ]
            ],
            "type": "histogram2dcontour"
           }
          ],
          "mesh3d": [
           {
            "colorbar": {
             "outlinewidth": 0,
             "ticks": ""
            },
            "type": "mesh3d"
           }
          ],
          "parcoords": [
           {
            "line": {
             "colorbar": {
              "outlinewidth": 0,
              "ticks": ""
             }
            },
            "type": "parcoords"
           }
          ],
          "pie": [
           {
            "automargin": true,
            "type": "pie"
           }
          ],
          "scatter": [
           {
            "fillpattern": {
             "fillmode": "overlay",
             "size": 10,
             "solidity": 0.2
            },
            "type": "scatter"
           }
          ],
          "scatter3d": [
           {
            "line": {
             "colorbar": {
              "outlinewidth": 0,
              "ticks": ""
             }
            },
            "marker": {
             "colorbar": {
              "outlinewidth": 0,
              "ticks": ""
             }
            },
            "type": "scatter3d"
           }
          ],
          "scattercarpet": [
           {
            "marker": {
             "colorbar": {
              "outlinewidth": 0,
              "ticks": ""
             }
            },
            "type": "scattercarpet"
           }
          ],
          "scattergeo": [
           {
            "marker": {
             "colorbar": {
              "outlinewidth": 0,
              "ticks": ""
             }
            },
            "type": "scattergeo"
           }
          ],
          "scattergl": [
           {
            "marker": {
             "colorbar": {
              "outlinewidth": 0,
              "ticks": ""
             }
            },
            "type": "scattergl"
           }
          ],
          "scattermap": [
           {
            "marker": {
             "colorbar": {
              "outlinewidth": 0,
              "ticks": ""
             }
            },
            "type": "scattermap"
           }
          ],
          "scattermapbox": [
           {
            "marker": {
             "colorbar": {
              "outlinewidth": 0,
              "ticks": ""
             }
            },
            "type": "scattermapbox"
           }
          ],
          "scatterpolar": [
           {
            "marker": {
             "colorbar": {
              "outlinewidth": 0,
              "ticks": ""
             }
            },
            "type": "scatterpolar"
           }
          ],
          "scatterpolargl": [
           {
            "marker": {
             "colorbar": {
              "outlinewidth": 0,
              "ticks": ""
             }
            },
            "type": "scatterpolargl"
           }
          ],
          "scatterternary": [
           {
            "marker": {
             "colorbar": {
              "outlinewidth": 0,
              "ticks": ""
             }
            },
            "type": "scatterternary"
           }
          ],
          "surface": [
           {
            "colorbar": {
             "outlinewidth": 0,
             "ticks": ""
            },
            "colorscale": [
             [
              0,
              "#0d0887"
             ],
             [
              0.1111111111111111,
              "#46039f"
             ],
             [
              0.2222222222222222,
              "#7201a8"
             ],
             [
              0.3333333333333333,
              "#9c179e"
             ],
             [
              0.4444444444444444,
              "#bd3786"
             ],
             [
              0.5555555555555556,
              "#d8576b"
             ],
             [
              0.6666666666666666,
              "#ed7953"
             ],
             [
              0.7777777777777778,
              "#fb9f3a"
             ],
             [
              0.8888888888888888,
              "#fdca26"
             ],
             [
              1,
              "#f0f921"
             ]
            ],
            "type": "surface"
           }
          ],
          "table": [
           {
            "cells": {
             "fill": {
              "color": "#EBF0F8"
             },
             "line": {
              "color": "white"
             }
            },
            "header": {
             "fill": {
              "color": "#C8D4E3"
             },
             "line": {
              "color": "white"
             }
            },
            "type": "table"
           }
          ]
         },
         "layout": {
          "annotationdefaults": {
           "arrowcolor": "#2a3f5f",
           "arrowhead": 0,
           "arrowwidth": 1
          },
          "autotypenumbers": "strict",
          "coloraxis": {
           "colorbar": {
            "outlinewidth": 0,
            "ticks": ""
           }
          },
          "colorscale": {
           "diverging": [
            [
             0,
             "#8e0152"
            ],
            [
             0.1,
             "#c51b7d"
            ],
            [
             0.2,
             "#de77ae"
            ],
            [
             0.3,
             "#f1b6da"
            ],
            [
             0.4,
             "#fde0ef"
            ],
            [
             0.5,
             "#f7f7f7"
            ],
            [
             0.6,
             "#e6f5d0"
            ],
            [
             0.7,
             "#b8e186"
            ],
            [
             0.8,
             "#7fbc41"
            ],
            [
             0.9,
             "#4d9221"
            ],
            [
             1,
             "#276419"
            ]
           ],
           "sequential": [
            [
             0,
             "#0d0887"
            ],
            [
             0.1111111111111111,
             "#46039f"
            ],
            [
             0.2222222222222222,
             "#7201a8"
            ],
            [
             0.3333333333333333,
             "#9c179e"
            ],
            [
             0.4444444444444444,
             "#bd3786"
            ],
            [
             0.5555555555555556,
             "#d8576b"
            ],
            [
             0.6666666666666666,
             "#ed7953"
            ],
            [
             0.7777777777777778,
             "#fb9f3a"
            ],
            [
             0.8888888888888888,
             "#fdca26"
            ],
            [
             1,
             "#f0f921"
            ]
           ],
           "sequentialminus": [
            [
             0,
             "#0d0887"
            ],
            [
             0.1111111111111111,
             "#46039f"
            ],
            [
             0.2222222222222222,
             "#7201a8"
            ],
            [
             0.3333333333333333,
             "#9c179e"
            ],
            [
             0.4444444444444444,
             "#bd3786"
            ],
            [
             0.5555555555555556,
             "#d8576b"
            ],
            [
             0.6666666666666666,
             "#ed7953"
            ],
            [
             0.7777777777777778,
             "#fb9f3a"
            ],
            [
             0.8888888888888888,
             "#fdca26"
            ],
            [
             1,
             "#f0f921"
            ]
           ]
          },
          "colorway": [
           "#636efa",
           "#EF553B",
           "#00cc96",
           "#ab63fa",
           "#FFA15A",
           "#19d3f3",
           "#FF6692",
           "#B6E880",
           "#FF97FF",
           "#FECB52"
          ],
          "font": {
           "color": "#2a3f5f"
          },
          "geo": {
           "bgcolor": "white",
           "lakecolor": "white",
           "landcolor": "#E5ECF6",
           "showlakes": true,
           "showland": true,
           "subunitcolor": "white"
          },
          "hoverlabel": {
           "align": "left"
          },
          "hovermode": "closest",
          "mapbox": {
           "style": "light"
          },
          "paper_bgcolor": "white",
          "plot_bgcolor": "#E5ECF6",
          "polar": {
           "angularaxis": {
            "gridcolor": "white",
            "linecolor": "white",
            "ticks": ""
           },
           "bgcolor": "#E5ECF6",
           "radialaxis": {
            "gridcolor": "white",
            "linecolor": "white",
            "ticks": ""
           }
          },
          "scene": {
           "xaxis": {
            "backgroundcolor": "#E5ECF6",
            "gridcolor": "white",
            "gridwidth": 2,
            "linecolor": "white",
            "showbackground": true,
            "ticks": "",
            "zerolinecolor": "white"
           },
           "yaxis": {
            "backgroundcolor": "#E5ECF6",
            "gridcolor": "white",
            "gridwidth": 2,
            "linecolor": "white",
            "showbackground": true,
            "ticks": "",
            "zerolinecolor": "white"
           },
           "zaxis": {
            "backgroundcolor": "#E5ECF6",
            "gridcolor": "white",
            "gridwidth": 2,
            "linecolor": "white",
            "showbackground": true,
            "ticks": "",
            "zerolinecolor": "white"
           }
          },
          "shapedefaults": {
           "line": {
            "color": "#2a3f5f"
           }
          },
          "ternary": {
           "aaxis": {
            "gridcolor": "white",
            "linecolor": "white",
            "ticks": ""
           },
           "baxis": {
            "gridcolor": "white",
            "linecolor": "white",
            "ticks": ""
           },
           "bgcolor": "#E5ECF6",
           "caxis": {
            "gridcolor": "white",
            "linecolor": "white",
            "ticks": ""
           }
          },
          "title": {
           "x": 0.05
          },
          "xaxis": {
           "automargin": true,
           "gridcolor": "white",
           "linecolor": "white",
           "ticks": "",
           "title": {
            "standoff": 15
           },
           "zerolinecolor": "white",
           "zerolinewidth": 2
          },
          "yaxis": {
           "automargin": true,
           "gridcolor": "white",
           "linecolor": "white",
           "ticks": "",
           "title": {
            "standoff": 15
           },
           "zerolinecolor": "white",
           "zerolinewidth": 2
          }
         }
        },
        "title": {
         "text": "Conversion Funnel — Group B"
        }
       }
      }
     },
     "metadata": {},
     "output_type": "display_data"
    }
   ],
   "source": [
    "from plotly import graph_objects as go\n",
    "\n",
    "# Group A\n",
    "fig_a = go.Figure(go.Funnel(\n",
    "    y=[\"View\", \"Add to Cart\", \"Purchase\"],\n",
    "    x=[\n",
    "        funnel_valid.loc['A', 'product_page'],\n",
    "        funnel_valid.loc['A', 'product_cart'],\n",
    "        funnel_valid.loc['A', 'purchase']\n",
    "    ],\n",
    "    textinfo=\"value+percent initial\",\n",
    "    name=\"Group A\"\n",
    "))\n",
    "fig_a.update_layout(title=\"Conversion Funnel — Group A\")\n",
    "fig_a.show()\n",
    "\n",
    "# Group B\n",
    "fig_b = go.Figure(go.Funnel(\n",
    "    y=[\"View\", \"Add to Cart\", \"Purchase\"],\n",
    "    x=[\n",
    "        funnel_valid.loc['B', 'product_page'],\n",
    "        funnel_valid.loc['B', 'product_cart'],\n",
    "        funnel_valid.loc['B', 'purchase']\n",
    "    ],\n",
    "    textinfo=\"value+percent initial\",\n",
    "    name=\"Group B\"\n",
    "))\n",
    "fig_b.update_layout(title=\"Conversion Funnel — Group B\")\n",
    "fig_b.show()\n",
    "\n"
   ]
  },
  {
   "cell_type": "markdown",
   "metadata": {},
   "source": [
    "### 3.3 - Event distribution per user"
   ]
  },
  {
   "cell_type": "code",
   "execution_count": null,
   "metadata": {},
   "outputs": [
    {
     "data": {
      "text/html": [
       "<div>\n",
       "<style scoped>\n",
       "    .dataframe tbody tr th:only-of-type {\n",
       "        vertical-align: middle;\n",
       "    }\n",
       "\n",
       "    .dataframe tbody tr th {\n",
       "        vertical-align: top;\n",
       "    }\n",
       "\n",
       "    .dataframe thead th {\n",
       "        text-align: right;\n",
       "    }\n",
       "</style>\n",
       "<table border=\"1\" class=\"dataframe\">\n",
       "  <thead>\n",
       "    <tr style=\"text-align: right;\">\n",
       "      <th></th>\n",
       "      <th>count</th>\n",
       "      <th>mean</th>\n",
       "      <th>std</th>\n",
       "      <th>min</th>\n",
       "      <th>25%</th>\n",
       "      <th>50%</th>\n",
       "      <th>75%</th>\n",
       "      <th>max</th>\n",
       "    </tr>\n",
       "    <tr>\n",
       "      <th>group</th>\n",
       "      <th></th>\n",
       "      <th></th>\n",
       "      <th></th>\n",
       "      <th></th>\n",
       "      <th></th>\n",
       "      <th></th>\n",
       "      <th></th>\n",
       "      <th></th>\n",
       "    </tr>\n",
       "  </thead>\n",
       "  <tbody>\n",
       "    <tr>\n",
       "      <th>A</th>\n",
       "      <td>7874.0</td>\n",
       "      <td>7.45555</td>\n",
       "      <td>4.475159</td>\n",
       "      <td>1.0</td>\n",
       "      <td>4.0</td>\n",
       "      <td>6.0</td>\n",
       "      <td>9.0</td>\n",
       "      <td>40.0</td>\n",
       "    </tr>\n",
       "    <tr>\n",
       "      <th>B</th>\n",
       "      <td>6205.0</td>\n",
       "      <td>7.11249</td>\n",
       "      <td>4.246201</td>\n",
       "      <td>1.0</td>\n",
       "      <td>4.0</td>\n",
       "      <td>6.0</td>\n",
       "      <td>9.0</td>\n",
       "      <td>36.0</td>\n",
       "    </tr>\n",
       "  </tbody>\n",
       "</table>\n",
       "</div>"
      ],
      "text/plain": [
       "        count     mean       std  min  25%  50%  75%   max\n",
       "group                                                     \n",
       "A      7874.0  7.45555  4.475159  1.0  4.0  6.0  9.0  40.0\n",
       "B      6205.0  7.11249  4.246201  1.0  4.0  6.0  9.0  36.0"
      ]
     },
     "execution_count": 49,
     "metadata": {},
     "output_type": "execute_result"
    }
   ],
   "source": [
    "# Events per user and group\n",
    "events_per_user = events_merged.groupby(['user_id', 'group']).size().reset_index(name='n_events')\n",
    "\n",
    "events_per_user.groupby('group')['n_events'].describe()\n"
   ]
  },
  {
   "cell_type": "markdown",
   "metadata": {},
   "source": [
    "### 3.4 - Daily time series of events"
   ]
  },
  {
   "cell_type": "code",
   "execution_count": null,
   "metadata": {},
   "outputs": [
    {
     "data": {
      "text/plain": [
       "<Axes: title={'center': 'Events per day by group'}, xlabel='date'>"
      ]
     },
     "execution_count": 50,
     "metadata": {},
     "output_type": "execute_result"
    },
    {
     "data": {
      "image/png": "[encoded data removed]",
      "text/plain": [
       "<Figure size 1200x500 with 1 Axes>"
      ]
     },
     "metadata": {},
     "output_type": "display_data"
    }
   ],
   "source": [
    "# Count events per group by day\n",
    "events_merged['date'] = events_merged['event_time'].dt.date\n",
    "events_by_day = events_merged.groupby(['date', 'group']).size().unstack(fill_value=0)\n",
    "\n",
    "events_by_day.plot(title='Events per day by group', figsize=(12,5))\n"
   ]
  },
  {
   "cell_type": "markdown",
   "metadata": {},
   "source": [
    "### 3.5 – Interim conclusions"
   ]
  },
  {
   "cell_type": "markdown",
   "metadata": {},
   "source": [
    "**What was done:**\n",
    "\n",
    "Initially, we ensured that the analysis was restricted only to users who actually participated in the experiment by cross-referencing the event dataset with the A/B test participants table. With this subset, we built a simple conversion funnel based on unique user counts for product page views, add-to-cart events, and purchases. This allowed us to calculate conversion rates between each funnel stage for both groups.\n",
    "\n",
    "Next, we implemented a more refined version of the funnel by considering the temporal sequence of events. To achieve this, we used the minimum timestamps for each type of event per user, enforcing a logical order of actions. At first, we applied strict (>) operators to ensure this progression, but the results were distorted because many events occurred at exactly the same second. We corrected this issue by replacing them with >= operators, which adjusted the funnel to better reflect real user behavior.\n",
    "\n",
    "To complement the tabular analysis of the conversion funnel, we built funnel charts for Groups A and B based on the valid sequential data. These charts illustrate the number of users progressing through each stage: product page view, add to cart, and purchase.\n",
    "\n",
    "Additionally, we investigated whether the number of events per user was distributed similarly between the groups. This analysis showed that means and standard deviations were very close for Groups A and B, suggesting an adequate behavioral equivalence between samples. Finally, we analyzed the temporal distribution of events. The daily events chart by group revealed that although Group A generated more events overall during the test, both groups followed very similar time curves, indicating that the experiment was carried out in a parallel and consistent way for both.\n",
    "\n",
    "**What we can conclude:**\n",
    "\n",
    "The construction of the unique-count funnel indicated that Group B had a slightly higher conversion rate to the cart, suggesting that the new recommendation system may be encouraging more mid-funnel interactions. However, Group A showed a slightly higher final conversion from product view to purchase. When validating the temporal sequence of events, these patterns remained consistent: Group B stands out in the add-to-cart stage, while Group A performs better in the final step.\n",
    "\n",
    "The analysis of data particularities — especially regarding events with identical timestamps — was crucial to ensure that the time-based funnel did not incorrectly exclude valid user behavior. The evaluation of the number of events per user showed a very similar distribution between groups, without concerning asymmetries. The temporal analysis also revealed that both groups followed similar trajectories over time, reinforcing the integrity of the A/B test execution.\n",
    "\n",
    "The charts confirm the previously identified patterns. Group B shows a slight percentage advantage in conversion from product view to cart (24% vs. 23%), while Group A demonstrates slightly better final conversion to purchase (3% in both groups, but with more absolute users). The sharp drop between add-to-cart and purchase in both groups highlights an important bottleneck in the last stage of the funnel that deserves further attention.\n",
    "\n",
    "These findings indicate that the new recommendation system may drive greater initial engagement (more add-to-cart actions) but does not necessarily lead to more purchases. This reinforces the need to explore other stages of the user journey — such as checkout, offers, or payment methods — to improve the final conversion rate.\n",
    "\n",
    "\n",
    "\n"
   ]
  },
  {
   "cell_type": "markdown",
   "metadata": {},
   "source": [
    "## 4 – Hypothesis Testing\n",
    "In this stage, we evaluated whether the observed differences in conversion rates between Groups A and B at each step of the conversion funnel are statistically significant.\n",
    "We used the valid temporal sequence funnel, which ensures the logical order of events:\n",
    "product view → add to cart → purchase.\n",
    "\n",
    "To do this, we applied one-tailed proportion Z-tests, with the alternative hypothesis that Group B (exposed to the new recommendation system) would perform better than Group A.\n",
    "\n",
    "### 4.1 – Hypotheses Definition\n",
    "\n",
    "For each stage of the funnel, we formulated the following hypotheses:\n",
    "\n",
    "1. Product View → Add to Cart (product_cart)\n",
    "- H₀ (null): The conversion rates of Groups A and B are equal.\n",
    "- H₁ (alternative): The conversion rate of Group B is higher than that of Group A.\n",
    "2. Add to Cart → Purchase (purchase)\n",
    "- H₀ (null): The conversion rates of Groups A and B are equal.\n",
    "- H₁ (alternative): The conversion rate of Group B is higher than that of Group A.\n",
    "\n",
    "3. Product View → Purchase (full conversion)\n",
    "- H₀ (null): The conversion rates of Groups A and B are equal.\n",
    "- H₁ (alternative): The conversion rate of Group B is higher than that of Group A."
   ]
  },
  {
   "cell_type": "markdown",
   "metadata": {},
   "source": [
    "### 4.2 – Proportions Z-test helper"
   ]
  },
  {
   "cell_type": "code",
   "execution_count": null,
   "metadata": {},
   "outputs": [],
   "source": [
    "from statsmodels.stats.proportion import proportions_ztest\n",
    "import numpy as np\n",
    "\n",
    "def test_proportions(success_a, total_a, success_b, total_b):\n",
    "    # Order: B then A for a one-sided 'larger' test in favor of B\n",
    "    count = np.array([success_b, success_a])\n",
    "    nobs  = np.array([total_b,   total_a])\n",
    "    stat, p_value = proportions_ztest(count, nobs, alternative='larger')\n",
    "    return stat, p_value\n",
    "\n"
   ]
  },
  {
   "cell_type": "markdown",
   "metadata": {},
   "source": [
    "### 4.3 – Apply tests by stage\n",
    "\n",
    "We use the time-valid funnel (funnel_valid) so each step respects the event order.\n",
    "\n",
    "#### 4.3.1 – Test: product_cart / product_page"
   ]
  },
  {
   "cell_type": "code",
   "execution_count": null,
   "metadata": {},
   "outputs": [
    {
     "name": "stdout",
     "output_type": "stream",
     "text": [
      "p-valor (view → cart): 0.0996\n"
     ]
    }
   ],
   "source": [
    "success_a = funnel_valid.loc['A', 'product_cart']\n",
    "total_a = funnel_valid.loc['A', 'product_page']\n",
    "success_b = funnel_valid.loc['B', 'product_cart']\n",
    "total_b = funnel_valid.loc['B', 'product_page']\n",
    "\n",
    "stat_cart, p_cart = test_proportions(success_a, total_a, success_b, total_b)\n",
    "print(f\"p-valor (view → cart): {p_cart:.4f}\")\n"
   ]
  },
  {
   "cell_type": "markdown",
   "metadata": {},
   "source": [
    "#### 4.3.2 – Test: purchase / product_cart"
   ]
  },
  {
   "cell_type": "code",
   "execution_count": null,
   "metadata": {},
   "outputs": [
    {
     "name": "stdout",
     "output_type": "stream",
     "text": [
      "p-valor (cart → purchase): 0.8201\n"
     ]
    }
   ],
   "source": [
    "success_a = funnel_valid.loc['A', 'purchase']\n",
    "total_a = funnel_valid.loc['A', 'product_cart']\n",
    "success_b = funnel_valid.loc['B', 'purchase']\n",
    "total_b = funnel_valid.loc['B', 'product_cart']\n",
    "\n",
    "stat_purchase, p_purchase = test_proportions(success_a, total_a, success_b, total_b)\n",
    "print(f\"p-valor (cart → purchase): {p_purchase:.4f}\")\n"
   ]
  },
  {
   "cell_type": "markdown",
   "metadata": {},
   "source": [
    "#### 4.3.3 – Test: purchase / product_page (full conversion)"
   ]
  },
  {
   "cell_type": "code",
   "execution_count": null,
   "metadata": {},
   "outputs": [
    {
     "name": "stdout",
     "output_type": "stream",
     "text": [
      "p-valor (view → purchase): 0.6823\n"
     ]
    }
   ],
   "source": [
    "success_a = funnel_valid.loc['A', 'purchase']\n",
    "total_a = funnel_valid.loc['A', 'product_page']\n",
    "success_b = funnel_valid.loc['B', 'purchase']\n",
    "total_b = funnel_valid.loc['B', 'product_page']\n",
    "\n",
    "stat_full, p_full = test_proportions(success_a, total_a, success_b, total_b)\n",
    "print(f\"p-valor (view → purchase): {p_full:.4f}\")\n",
    "\n"
   ]
  },
  {
   "cell_type": "markdown",
   "metadata": {},
   "source": [
    "### 4.4 – Interpretation of Results"
   ]
  },
  {
   "cell_type": "markdown",
   "metadata": {},
   "source": [
    "**What was done:**\n",
    "We ran one-sided z-tests for proportions at each funnel step using the time-valid sequence per user. For each step we compared success proportions across groups with the alternative that Group B > Group A.\n",
    "\n",
    "Stages tested:\n",
    "- View → Add to cart\n",
    "- Add to cart → Purchase\n",
    "- View → Purchase (full conversion)"
   ]
  },
  {
   "cell_type": "markdown",
   "metadata": {},
   "source": [
    "**What we can conclude:**\n",
    "\n",
    "- View → Cart: p = 0.0996 (> 0.05). No statistical evidence that B > A at this stage, even though B’s conversion is numerically higher.\n",
    "- Cart → Purchase: p = 0.8201 (≫ 0.05). No difference between groups.\n",
    "- View → Purchase: p = 0.6823 (> 0.05). No statistically significant impact on total conversion."
   ]
  },
  {
   "cell_type": "markdown",
   "metadata": {},
   "source": [
    "**Summary:**\n",
    "\n",
    "The improved recommender did not produce statistically significant uplifts at any stage of the funnel. Visual differences (e.g., slightly higher add-to-cart for B) are not statistically robust.\n",
    "\n",
    "Therefore, based on the available data and tests, we cannot justify adopting the new recommender solely on the grounds of a significant improvement in the conversion journey.\n"
   ]
  },
  {
   "cell_type": "markdown",
   "metadata": {},
   "source": [
    "## 5 - Final Considerations"
   ]
  },
  {
   "cell_type": "markdown",
   "metadata": {},
   "source": [
    "This report analyzed an A/B experiment for a new recommendation system. After validation, cleaning, and building a logically ordered conversion funnel, we assessed its impact on views, add-to-cart, and purchases.\n",
    "\n",
    "Although Group B showed a slightly higher add-to-cart rate, statistical tests found no significant differences at any funnel stage. Thus, there is no strong evidence that the new system increases conversions, even if it may indicate slightly higher early engagement.\n",
    "\n",
    "**Recommendations:**\n",
    "\n",
    "- Investigate the cart → purchase drop-off in more depth.\n",
    "- Explore improvements in downstream steps (checkout UX, pricing, payment methods) to raise final conversion."
   ]
  }
 ],
 "metadata": {
  "kernelspec": {
   "display_name": "base",
   "language": "python",
   "name": "python3"
  },
  "language_info": {
   "codemirror_mode": {
    "name": "ipython",
    "version": 3
   },
   "file_extension": ".py",
   "mimetype": "text/x-python",
   "name": "python",
   "nbconvert_exporter": "python",
   "pygments_lexer": "ipython3",
   "version": "3.12.7"
  }
 },
 "nbformat": 4,
 "nbformat_minor": 4
}
